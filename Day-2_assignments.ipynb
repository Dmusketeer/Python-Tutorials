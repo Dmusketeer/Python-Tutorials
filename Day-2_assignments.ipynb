{
 "cells": [
  {
   "cell_type": "markdown",
   "metadata": {},
   "source": [
    "#                                          Pandas Assignment:"
   ]
  },
  {
   "cell_type": "code",
   "execution_count": null,
   "metadata": {
    "scrolled": true
   },
   "outputs": [],
   "source": [
    "# Que-a)\tImport the dataset and find out the shape of the dataframe.\n",
    "\n",
    "import pandas as pd\n",
    "df=pd.read_csv(r\"C:\\Users\\DHEERAJ TIWARI\\Desktop\\workshop\\50_Startups.csv\")\n",
    "df"
   ]
  },
  {
   "cell_type": "code",
   "execution_count": null,
   "metadata": {},
   "outputs": [],
   "source": [
    "rows,columns=df.shape\n",
    "print(\"Rows:\",rows,\"\\nColumns:\",columns)"
   ]
  },
  {
   "cell_type": "code",
   "execution_count": null,
   "metadata": {},
   "outputs": [],
   "source": [
    "# Que b--> Slice the first 15 rows of data from data frame and store them into another variable.\n",
    "\n",
    "newrows=df.iloc[0:15]\n",
    "newrows"
   ]
  },
  {
   "cell_type": "code",
   "execution_count": null,
   "metadata": {},
   "outputs": [],
   "source": [
    "# Que :c)\tFind the min, max,head,tail,dtypes values of Administration column.\n",
    "\n",
    "print('Min value of Administration:',df['Administration'].min())\n",
    "print('\\nMax value of Administration:',df['Administration'].max())\n",
    "print(\"\\nHead:\\n\\n\",df['Administration'].head())\n",
    "print(\"\\ntail:\\n\\n\",df['Administration'].tail())\n",
    "print(\"\\nDtype:\",df['Administration'].dtype)\n"
   ]
  },
  {
   "cell_type": "code",
   "execution_count": null,
   "metadata": {},
   "outputs": [],
   "source": [
    "# Que-d)\tSlice the 2 & 3 columns of the data frame and store it into another variable.\n",
    "\n",
    "sec_thir=df.iloc[ : , [2,3]]\n",
    "sec_thir"
   ]
  },
  {
   "cell_type": "code",
   "execution_count": null,
   "metadata": {},
   "outputs": [],
   "source": [
    "# Que-e)\tFind out the aggregations like mean, median,variance and standard deviation for first \n",
    "# --20 rows of profit column.\n",
    "\n",
    "new_20=df.iloc[0:21]\n",
    "new_20.describe()"
   ]
  },
  {
   "cell_type": "code",
   "execution_count": null,
   "metadata": {},
   "outputs": [],
   "source": [
    "# Que-f)\tFind out the profit median for different states.(hint: Use groupby function)\n",
    "\n",
    "# df['Profit'].median  \n",
    "# OR\n",
    "\n",
    "gpb=df.groupby(['Profit'])\n",
    "gpb.median()\n"
   ]
  },
  {
   "cell_type": "code",
   "execution_count": null,
   "metadata": {},
   "outputs": [],
   "source": [
    "# Que-g)\tFilter out the rows from dataframe where R&D Spend is more than 50,000.\n",
    "\n",
    "rnd=df[df['R&D Spend']>50000]\n",
    "rnd"
   ]
  },
  {
   "cell_type": "code",
   "execution_count": null,
   "metadata": {},
   "outputs": [],
   "source": [
    "# ------------------------------------------------THANK YOU-----------------------------------------------------------"
   ]
  }
 ],
 "metadata": {
  "kernelspec": {
   "display_name": "Python 3",
   "language": "python",
   "name": "python3"
  },
  "language_info": {
   "codemirror_mode": {
    "name": "ipython",
    "version": 3
   },
   "file_extension": ".py",
   "mimetype": "text/x-python",
   "name": "python",
   "nbconvert_exporter": "python",
   "pygments_lexer": "ipython3",
   "version": "3.7.6"
  }
 },
 "nbformat": 4,
 "nbformat_minor": 4
}
